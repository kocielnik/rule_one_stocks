{
  "nbformat": 4,
  "nbformat_minor": 0,
  "metadata": {
    "colab": {
      "provenance": []
    },
    "kernelspec": {
      "name": "python3",
      "display_name": "Python 3"
    },
    "language_info": {
      "name": "python"
    }
  },
  "cells": [
    {
      "cell_type": "code",
      "source": [
        "%%file deals.py\n",
        "\n",
        "\n",
        "\"\"\"\n",
        ">>> company = Company(symbol=\"tsm\", sticker_price=11)\n",
        ">>> get_deal(company, Ticker=MockTicker)\n",
        "Deal(\"tsm\", 11, 98)\n",
        "\n",
        ">>> companies = [\n",
        "...  Company(symbol=\"msft\", sticker_price=118),\n",
        "...  Company(symbol=\"tsm\", sticker_price=11)\n",
        "... ]\n",
        ">>> deals = get_deals(companies, Ticker=MockTicker)\n",
        ">>> deals\n",
        "[Deal(\"msft\", 118, 352.5), Deal(\"tsm\", 11, 98)]\n",
        "\"\"\"\n",
        "\n",
        "\n",
        "from types import SimpleNamespace\n",
        "from yfinance import Ticker\n",
        "\n",
        "\n",
        "class Company(SimpleNamespace):\n",
        "    def __init__(self, symbol, sticker_price):\n",
        "        self.symbol = symbol\n",
        "        self.sticker_price = sticker_price\n",
        "\n",
        "\n",
        "class Deal:\n",
        "\n",
        "    \"\"\"\n",
        "    >>> Deal(\"msft\", 1, 1)\n",
        "    Deal(\"msft\", 1, 1)\n",
        "    \"\"\"\n",
        "\n",
        "    def __init__(\n",
        "        self, symbol, sticker_price,\n",
        "        price\n",
        "    ):\n",
        "        self.symbol = symbol\n",
        "        self.sticker_price = sticker_price\n",
        "        self.price = price\n",
        "        self.percent_of_sticker_price = price / sticker_price * 100\n",
        "\n",
        "    def __repr__(self):\n",
        "        return f'Deal(\"{self.symbol}\", {self.sticker_price}, {self.price})'\n",
        "\n",
        "    def __eq__(self, other):\n",
        "        if self.sticker_price != other.sticker_price:\n",
        "            return False\n",
        "\n",
        "        if self.price != other.price:\n",
        "            return False\n",
        "\n",
        "        return True\n",
        "\n",
        "class MockTicker:\n",
        "    def __init__(self, symbol):\n",
        "        price = 352.5 if symbol == \"msft\" else 98\n",
        "\n",
        "        self.info = {\n",
        "            \"currentPrice\": price\n",
        "        }\n",
        "\n",
        "\n",
        "def get_price(symbol, Ticker=Ticker):\n",
        "    \"\"\"\n",
        "    >>> get_price(\"msft\", Ticker=MockTicker)\n",
        "    352.5\n",
        "    >>> get_price([])\n",
        "    {}\n",
        "    >>> get_price([\"msft\"], Ticker=MockTicker)\n",
        "    {'msft': 352.5}\n",
        "    \"\"\"\n",
        "    if type(symbol) == str:\n",
        "        price = Ticker(symbol).info[\"currentPrice\"]\n",
        "        return price\n",
        "\n",
        "    prices = {\n",
        "        the_symbol: get_price(the_symbol, Ticker=Ticker)\n",
        "        for the_symbol in symbol\n",
        "    }\n",
        "    return prices\n",
        "\n",
        "def get_deal(company, Ticker=Ticker):\n",
        "    price = get_price(company.symbol, Ticker=Ticker)\n",
        "    return Deal(company.symbol, company.sticker_price, price)\n",
        "\n",
        "def get_deals(companies, Ticker=Ticker):\n",
        "    sticker_prices = {\n",
        "        company.symbol: company.sticker_price\n",
        "        for company in companies\n",
        "    }\n",
        "\n",
        "    deals = []\n",
        "    for symbol in sticker_prices.keys():\n",
        "        price = get_price(symbol, Ticker=Ticker)\n",
        "        deals.append(Deal(symbol, sticker_prices[symbol], price))\n",
        "    \n",
        "    return deals\n",
        "\n",
        "def test_get_deals():\n",
        "    companies = [\n",
        "        Company(\"msft\", 118),\n",
        "        Company(\"tsm\", 22)\n",
        "    ]\n",
        "\n",
        "    deals = get_deals(companies, Ticker=MockTicker)\n",
        "\n",
        "    assert deals[0] == Deal(\"msft\", 118, 352.5)\n",
        "\n",
        "def test_get_deal_one():\n",
        "    company = Company(symbol=\"msft\", sticker_price=118)\n",
        "\n",
        "    deal = get_deal(company, Ticker=MockTicker)\n",
        "\n",
        "    assert deal == Deal(\"msft\", 118, 352.5)"
      ],
      "metadata": {
        "id": "0EptahUkFYlk",
        "colab": {
          "base_uri": "https://localhost:8080/"
        },
        "outputId": "a0e2ab38-ae7f-48e3-cf2e-705f88c6cdba"
      },
      "execution_count": 44,
      "outputs": [
        {
          "output_type": "stream",
          "name": "stdout",
          "text": [
            "Overwriting deals.py\n"
          ]
        }
      ]
    },
    {
      "cell_type": "code",
      "source": [
        "!pytest --doctest-modules deals.py"
      ],
      "metadata": {
        "colab": {
          "base_uri": "https://localhost:8080/"
        },
        "id": "0ZvmZV_eBUU0",
        "outputId": "b04ba3cc-decd-49f1-843b-f7aba394df3c"
      },
      "execution_count": 45,
      "outputs": [
        {
          "output_type": "stream",
          "name": "stdout",
          "text": [
            "\u001b[1m============================= test session starts ==============================\u001b[0m\n",
            "platform linux -- Python 3.10.11, pytest-7.2.2, pluggy-1.0.0\n",
            "rootdir: /content\n",
            "plugins: anyio-3.6.2\n",
            "collected 5 items                                                              \u001b[0m\n",
            "\n",
            "deals.py \u001b[32m.\u001b[0m\u001b[32m.\u001b[0m\u001b[32m.\u001b[0m\u001b[32m.\u001b[0m\u001b[32m.\u001b[0m\u001b[32m                                                           [100%]\u001b[0m\n",
            "\n",
            "\u001b[32m============================== \u001b[32m\u001b[1m5 passed\u001b[0m\u001b[32m in 0.73s\u001b[0m\u001b[32m ===============================\u001b[0m\n"
          ]
        }
      ]
    }
  ]
}