{
  "nbformat": 4,
  "nbformat_minor": 0,
  "metadata": {
    "colab": {
      "provenance": [],
      "include_colab_link": true
    },
    "kernelspec": {
      "name": "python3",
      "display_name": "Python 3"
    },
    "language_info": {
      "name": "python"
    }
  },
  "cells": [
    {
      "cell_type": "markdown",
      "metadata": {
        "id": "view-in-github",
        "colab_type": "text"
      },
      "source": [
        "<a href=\"https://colab.research.google.com/github/kocielnik/rule_one_stocks/blob/main/rule_one_stocks.ipynb\" target=\"_parent\"><img src=\"https://colab.research.google.com/assets/colab-badge.svg\" alt=\"Open In Colab\"/></a>"
      ]
    },
    {
      "cell_type": "markdown",
      "source": [
        "## Custom functions"
      ],
      "metadata": {
        "id": "OWBKewfHGtYj"
      }
    },
    {
      "cell_type": "code",
      "source": [
        "%%file deals.py\n",
        "\n",
        "\"\"\"\n",
        "Sue is a Rule One Investor.\n",
        "\n",
        "She wants to check stock prices daily to see if any Rule One deals are available\n",
        "for her.\n",
        "\n",
        "For simplicity and robustness of examples, the `Ticker` class in these examples\n",
        "is replaced with MockTicker.\n",
        "\n",
        "When Sue uses this program, she always omits the part `Ticker=MockTicker`.\n",
        "\n",
        "\n",
        "One day, Sue wants to check the price of a single stock.\n",
        "\n",
        ">>> company = Company(symbol=\"tsm\", sticker_price=11)\n",
        ">>> get_deal(company, Ticker=MockTicker)\n",
        "Deal(symbol='tsm', sticker_price=11, price=98, percent_of_sticker=891)\n",
        "\n",
        "\n",
        "On another day, Sue has several companies she wants to check the price of.\n",
        "\n",
        "To the same method `get_deal`, she can pass a list of companies the same way\n",
        "she passed a single company.\n",
        "\n",
        ">>> companies = [\n",
        "...  Company(symbol=\"msft\", sticker_price=118),\n",
        "...  Company(symbol=\"tsm\", sticker_price=11)\n",
        "... ]\n",
        ">>> deals = get_deal(companies, Ticker=MockTicker)\n",
        ">>> deals[0]\n",
        "Deal(symbol='msft', sticker_price=118, price=352.5, percent_of_sticker=299)\n",
        ">>> deals[1]\n",
        "Deal(symbol='tsm', sticker_price=11, price=98, percent_of_sticker=891)\n",
        "\n",
        "\n",
        "Sue wants the results to be sorted in the order of the best deal available.\n",
        "\n",
        "Best deal means the largest Margin of Safety (MOS).\n",
        "\n",
        "If companies are not sorted in the order of the best deal, the results *should*\n",
        "be.\n",
        "\n",
        "Note the order of input companies is reversed with respect to the previous example.\n",
        "\n",
        ">>> companies = [\n",
        "...  Company(symbol=\"tsm\", sticker_price=11),\n",
        "...  Company(symbol=\"msft\", sticker_price=118)\n",
        "... ]\n",
        ">>> deals = get_deal(companies, Ticker=MockTicker)\n",
        ">>> deals[0]\n",
        "Deal(symbol='msft', sticker_price=118, price=352.5, percent_of_sticker=299)\n",
        "\n",
        "\n",
        "Sue says the interface is too complicated for her, and she would love to\n",
        "be able to initialize Deal instances directly from Company instances.\n",
        "\n",
        ">>> companies = [\n",
        "...  Company(symbol=\"tsm\", sticker_price=11),\n",
        "...  Company(symbol=\"msft\", sticker_price=118)\n",
        "... ]\n",
        ">>> deals = Deal.from_(companies, Ticker=MockTicker)\n",
        ">>> deals[0]\n",
        "Deal(symbol='msft', sticker_price=118, price=352.5, percent_of_sticker=299)\n",
        "\"\"\"\n",
        "\n",
        "from typing import NamedTuple\n",
        "from yfinance import Ticker\n",
        "from requests import get\n",
        "from functools import lru_cache\n",
        "\n",
        "\n",
        "class Company(NamedTuple):\n",
        "    symbol: str\n",
        "    sticker_price: float\n",
        "\n",
        "\n",
        "class Deal(NamedTuple):\n",
        "\n",
        "    symbol: str\n",
        "    sticker_price: float\n",
        "    price: float\n",
        "    percent_of_sticker: int\n",
        "\n",
        "    \"\"\"\n",
        "    Sue wants to print an instance of this class and be able to copy-paste\n",
        "    it into another place, or save it for later pasting.\n",
        "\n",
        "    >>> Deal(symbol='msft', sticker_price=1, price=1)\n",
        "    Deal(symbol='msft', sticker_price=1, price=1)\n",
        "\n",
        "\n",
        "    Sue wants to be able to compare instances of `Deal` to check for equality,\n",
        "    in order to remove duplicates from lists if any are found.\n",
        "\n",
        "    She does not remember, *why* exactly she wanted this feature. Still, she\n",
        "    insists it should be available.\n",
        "\n",
        "    >>> deal_1 = Deal(symbol='msft', sticker_price=1, price=1)\n",
        "    >>> deal_2 = Deal(symbol='msft', sticker_price=1, price=1)\n",
        "    >>> deal_1 == deal_2\n",
        "    True\n",
        "    \"\"\"\n",
        "\n",
        "    def __eq__(self, other):\n",
        "        if repr(other) != repr(self):\n",
        "            return False\n",
        "        return True\n",
        "\n",
        "    def __lt__(self, other):\n",
        "        return self.percent_of_sticker < other.percent_of_sticker\n",
        "\n",
        "    @staticmethod\n",
        "    def from_(company, Ticker=Ticker):\n",
        "        deal = get_deal(company, Ticker=Ticker)\n",
        "        return deal\n",
        "\n",
        "\n",
        "class MockTicker:\n",
        "    def __init__(self, symbol):\n",
        "        price = 352.5 if symbol == \"msft\" else 98\n",
        "\n",
        "        self.info = {\n",
        "            \"currentPrice\": price\n",
        "        }\n",
        "\n",
        "\n",
        "def get_price(symbol, Ticker=Ticker):\n",
        "\n",
        "    \"\"\"\n",
        "    >>> get_price(\"msft\", Ticker=MockTicker)\n",
        "    352.5\n",
        "    >>> get_price([])\n",
        "    {}\n",
        "    >>> get_price([\"msft\"], Ticker=MockTicker)\n",
        "    {'msft': 352.5}\n",
        "    \"\"\"\n",
        "\n",
        "    if type(symbol) == str:\n",
        "        price = Ticker(symbol).info[\"currentPrice\"]\n",
        "        return price\n",
        "\n",
        "    prices = {\n",
        "        the_symbol: get_price(the_symbol, Ticker=Ticker)\n",
        "        for the_symbol in symbol\n",
        "    }\n",
        "    return prices\n",
        "\n",
        "def get_percent_of_sticker(price, sticker_price):\n",
        "    return int(100 * round(price/sticker_price, 2))\n",
        "\n",
        "def get_deal(company, Ticker=Ticker):\n",
        "\n",
        "    \"\"\"\n",
        "    >>> company = Company(symbol=\"msft\", sticker_price=118)\n",
        "    >>> deal = get_deal(company, Ticker=MockTicker)\n",
        "    >>> deal\n",
        "    Deal(symbol='msft', sticker_price=118, price=352.5, percent_of_sticker=299)\n",
        "    \"\"\"\n",
        "\n",
        "    if isinstance(company, list):\n",
        "        return get_deals(company, Ticker=Ticker)\n",
        "\n",
        "    price = get_price(company.symbol, Ticker=Ticker)\n",
        "    return Deal(\n",
        "        symbol=company.symbol,\n",
        "        sticker_price=company.sticker_price,\n",
        "        price=price,\n",
        "        percent_of_sticker=get_percent_of_sticker(price, company.sticker_price)\n",
        "    )\n",
        "\n",
        "def get_deals(companies, Ticker=Ticker):\n",
        "\n",
        "    \"\"\"\n",
        "    >>> companies = [\n",
        "    ...   Company(\"msft\", 118),\n",
        "    ...   Company(\"tsm\", 22)\n",
        "    ... ]\n",
        "    >>> deals = get_deals(companies, Ticker=MockTicker)\n",
        "    >>> deals[0]\n",
        "    Deal(symbol='msft', sticker_price=118, price=352.5, percent_of_sticker=299)\n",
        "    \"\"\"\n",
        "\n",
        "    sticker_prices = {\n",
        "        company.symbol: company.sticker_price\n",
        "        for company in companies\n",
        "    }\n",
        "\n",
        "    deals = []\n",
        "    for symbol in sticker_prices.keys():\n",
        "        price = get_price(symbol, Ticker=Ticker)\n",
        "        sticker_price=sticker_prices[symbol]\n",
        "        deals.append(\n",
        "            Deal(symbol=symbol,\n",
        "                 sticker_price=sticker_price,\n",
        "                 price=price,\n",
        "                 percent_of_sticker=get_percent_of_sticker(price, sticker_price)\n",
        "            )\n",
        "        )\n",
        "\n",
        "    return sorted(deals)\n",
        "\n",
        "def mock_get_sticker_price(symbol):\n",
        "    class MockResponse:\n",
        "        def json():\n",
        "            return {\"sticker_price\": {\"value\": 22}}\n",
        "\n",
        "    return MockResponse\n",
        "\n",
        "@lru_cache\n",
        "def get_sticker(symbol, api_host=\"143.42.16.225:8080\", get=get):\n",
        "    \"\"\"\n",
        "    >>> round(get_sticker(\"tsm\", get=mock_get_sticker_price))\n",
        "    22\n",
        "    \"\"\"\n",
        "    url = f\"http://{api_host}/search/{symbol}\"\n",
        "    result = get(url).json()[\"sticker_price\"][\"value\"]\n",
        "    return result\n",
        "\n",
        "def round_sticker(sticker):\n",
        "\n",
        "    \"\"\"\n",
        "    Prices above $2 should be rounded to the nearest integer.\n",
        "    >>> round_sticker(22.01)\n",
        "    22\n",
        "\n",
        "    Prices below $2 should be rounded to full cents.\n",
        "    >>> round_sticker(0.512)\n",
        "    0.51\n",
        "    \"\"\"\n",
        "    return round(sticker) if sticker >= 2 else round(sticker, 2)\n",
        "\n",
        "def is_valid_sticker(result):\n",
        "    return result is not None and result >= 0\n",
        "\n",
        "def get_stickers(items):\n",
        "    stickers = {}\n",
        "    for key in items.keys():\n",
        "        result = get_sticker(key)\n",
        "        if is_valid_sticker(result):\n",
        "            stickers[key] = round_sticker(result)\n",
        "    return stickers\n",
        "\n",
        "def with_preview(value):\n",
        "    print(value)\n",
        "    return value\n",
        "\n",
        "\n",
        "class StickerPriceIngredients(NamedTuple):\n",
        "\n",
        "    \"\"\"\n",
        "    >>> inputs = StickerPriceIngredients(\n",
        "    ...     current_eps=1.31,\n",
        "    ...     future_growth_rate_percent=15,\n",
        "    ...     future_pe=30,\n",
        "    ...     minimum_acceptable_rate_of_return_percent=15,\n",
        "    ...     years=10\n",
        "    ... )\n",
        "    \"\"\"\n",
        "\n",
        "    current_eps: float\n",
        "    future_growth_rate_percent: float\n",
        "    future_pe: float\n",
        "    minimum_acceptable_rate_of_return_percent: float\n",
        "    years: int\n",
        "\n",
        "\n",
        "\n",
        "class StickerPriceResults(NamedTuple):\n",
        "\n",
        "    \"\"\"\n",
        "    Compare https://www.ruleoneinvesting.com/margin-of-safety-calculator/\n",
        "\n",
        "    >>> outputs = StickerPriceResults(\n",
        "    ...     future_eps=11,\n",
        "    ...     future_value=254,\n",
        "    ...     sticker_price=63,\n",
        "    ...     mosp=31\n",
        "    ... )\n",
        "    >>> outputs.future_eps\n",
        "    11\n",
        "    \"\"\"\n",
        "\n",
        "    future_eps: float\n",
        "    future_value: float\n",
        "    sticker_price: float\n",
        "    mosp: float\n",
        "\n",
        "def get_sticker_price():\n",
        "\n",
        "    \"\"\"\n",
        "    Expected results - not attained yet:\n",
        "\n",
        "    >>> get_sticker_price().future_eps\n",
        "    10.48\n",
        "\n",
        "    Should be 11.\n",
        "\n",
        "    >>> get_sticker_price().future_value\n",
        "    314\n",
        "\n",
        "    Should be 254.\n",
        "    \"\"\"\n",
        "\n",
        "    ingredients = StickerPriceIngredients(\n",
        "        current_eps=1.31,\n",
        "        future_growth_rate_percent=15,\n",
        "        future_pe=30,\n",
        "        minimum_acceptable_rate_of_return_percent=15,\n",
        "        years=10\n",
        "    )\n",
        "\n",
        "    years_to_double = 72 // ingredients.future_growth_rate_percent\n",
        "    num_doubles = ingredients.years // years_to_double\n",
        "    future_eps = 2 ** (1 + num_doubles) * ingredients.current_eps\n",
        "\n",
        "    future_value = round(future_eps*ingredients.future_pe)\n",
        "\n",
        "    results = StickerPriceResults(\n",
        "        future_eps=future_eps,\n",
        "        future_value=future_value,\n",
        "        sticker_price=0,\n",
        "        mosp=0\n",
        "    )\n",
        "\n",
        "    return results"
      ],
      "metadata": {
        "id": "0EptahUkFYlk",
        "colab": {
          "base_uri": "https://localhost:8080/"
        },
        "outputId": "5c773e2e-2d13-405f-c263-781d95fe31d9"
      },
      "execution_count": null,
      "outputs": [
        {
          "output_type": "stream",
          "name": "stdout",
          "text": [
            "Writing deals.py\n"
          ]
        }
      ]
    },
    {
      "cell_type": "markdown",
      "source": [
        "### Tests"
      ],
      "metadata": {
        "id": "g6ocXWETHIus"
      }
    },
    {
      "cell_type": "code",
      "source": [
        "!pytest --doctest-modules deals.py"
      ],
      "metadata": {
        "colab": {
          "base_uri": "https://localhost:8080/"
        },
        "id": "0ZvmZV_eBUU0",
        "outputId": "61e110e8-577c-46b9-9f1c-ad2d23fb7408"
      },
      "execution_count": null,
      "outputs": [
        {
          "output_type": "stream",
          "name": "stdout",
          "text": [
            "\u001b[1m============================= test session starts ==============================\u001b[0m\n",
            "platform linux -- Python 3.10.12, pytest-7.2.2, pluggy-1.2.0\n",
            "rootdir: /content\n",
            "plugins: anyio-3.7.1\n",
            "collected 9 items                                                              \u001b[0m\n",
            "\n",
            "deals.py \u001b[32m.\u001b[0m\u001b[32m.\u001b[0m\u001b[32m.\u001b[0m\u001b[32m.\u001b[0m\u001b[32m.\u001b[0m\u001b[32m.\u001b[0m\u001b[32m.\u001b[0m\u001b[32m.\u001b[0m\u001b[32m.\u001b[0m\u001b[32m                                                       [100%]\u001b[0m\n",
            "\n",
            "\u001b[32m============================== \u001b[32m\u001b[1m9 passed\u001b[0m\u001b[32m in 0.63s\u001b[0m\u001b[32m ===============================\u001b[0m\n"
          ]
        }
      ]
    },
    {
      "cell_type": "code",
      "source": [
        "# symbol: sticker_price\n",
        "watch_list_items = {'TSM': 22,\n",
        " 'ON': 24,\n",
        " 'TSLA': 54,\n",
        " 'MSFT': 118,\n",
        " 'APH': 23,\n",
        " 'LSCC': 0.5,\n",
        " 'ACN': 110,\n",
        " 'GOOG': 93,\n",
        " 'ADBE': 118,\n",
        " 'ADI': 37,\n",
        " 'ANSS': 57,\n",
        " 'AMAT': 72,\n",
        " 'MELI': 2500,\n",
        " 'MCHP': 44,\n",
        " 'TSCO': 88,\n",
        " 'SNPS': 50,\n",
        " 'CPRT': 142,\n",
        " 'UMC': 0.97,\n",
        " 'ARCB': 75,\n",
        " 'MBUU': 98,\n",
        " 'PERI': 66,\n",
        " 'NVR': 721,\n",
        " 'WSO': 51,\n",
        " 'WEEV': None,\n",
        " 'UNH': 350,\n",
        " 'HOG': 18,\n",
        " 'ULTA': 343,\n",
        " 'TW': 84,\n",
        " 'CMG': 201,\n",
        " 'ADSK': 240,\n",
        " 'DE': 435,\n",
        " 'LSTR': 145,\n",
        " 'MU': None,\n",
        " 'NFLX': 691,\n",
        " 'ABNB': None}"
      ],
      "metadata": {
        "id": "UkOsFP2DaPti"
      },
      "execution_count": null,
      "outputs": []
    },
    {
      "cell_type": "markdown",
      "source": [
        "## Update sticker prices if available"
      ],
      "metadata": {
        "id": "LzFwAwrRHNGc"
      }
    },
    {
      "cell_type": "code",
      "source": [
        "from deals import with_preview, get_stickers\n",
        "\n",
        "stickers = with_preview(get_stickers(watch_list_items))"
      ],
      "metadata": {
        "id": "W5ldclGsatqa",
        "colab": {
          "base_uri": "https://localhost:8080/"
        },
        "outputId": "b620e4b8-0445-41e0-a249-40d6a03701d3"
      },
      "execution_count": null,
      "outputs": [
        {
          "output_type": "stream",
          "name": "stdout",
          "text": [
            "{}\n"
          ]
        }
      ]
    },
    {
      "cell_type": "code",
      "source": [
        "watch_list_items.update(stickers)\n",
        "watch_list_items"
      ],
      "metadata": {
        "id": "vewIQLqkHGx7",
        "colab": {
          "base_uri": "https://localhost:8080/"
        },
        "outputId": "f0fe0d02-8ad6-4ce6-f25e-87f26a126ce5"
      },
      "execution_count": null,
      "outputs": [
        {
          "output_type": "execute_result",
          "data": {
            "text/plain": [
              "{'TSM': 22,\n",
              " 'ON': 24,\n",
              " 'TSLA': 54,\n",
              " 'MSFT': 118,\n",
              " 'APH': 23,\n",
              " 'LSCC': 0.5,\n",
              " 'ACN': 110,\n",
              " 'GOOG': 93,\n",
              " 'ADBE': 118,\n",
              " 'ADI': 37,\n",
              " 'ANSS': 57,\n",
              " 'AMAT': 72,\n",
              " 'MELI': 2500,\n",
              " 'MCHP': 44,\n",
              " 'TSCO': 88,\n",
              " 'SNPS': 50,\n",
              " 'CPRT': 142,\n",
              " 'UMC': 0.97,\n",
              " 'ARCB': 75,\n",
              " 'MBUU': 98,\n",
              " 'PERI': 66,\n",
              " 'NVR': 721,\n",
              " 'WSO': 51,\n",
              " 'WEEV': None,\n",
              " 'UNH': 350,\n",
              " 'HOG': 18,\n",
              " 'ULTA': 343,\n",
              " 'TW': 84,\n",
              " 'CMG': 201,\n",
              " 'ADSK': 240,\n",
              " 'DE': 435,\n",
              " 'LSTR': 145,\n",
              " 'MU': None,\n",
              " 'NFLX': 691}"
            ]
          },
          "metadata": {},
          "execution_count": 5
        }
      ]
    },
    {
      "cell_type": "markdown",
      "source": [
        "## Example"
      ],
      "metadata": {
        "id": "vf5papOdGR08"
      }
    },
    {
      "cell_type": "code",
      "source": [
        "# Import classes, reload if needed.\n",
        "from importlib import reload; import deals; reload(deals)\n",
        "from deals import Company, Deal\n",
        "\n",
        "#\n",
        "companies = [\n",
        "    Company(symbol=symbol, sticker_price=watch_list_items[symbol])\n",
        "    for symbol in watch_list_items.keys()\n",
        "    if watch_list_items[symbol] is not None\n",
        "]\n",
        "\n",
        "deals = Deal.from_(companies)\n",
        "deals"
      ],
      "metadata": {
        "id": "oq27C01krZhL",
        "colab": {
          "base_uri": "https://localhost:8080/"
        },
        "outputId": "41085711-3f21-4105-ece4-21fc14b38886"
      },
      "execution_count": null,
      "outputs": [
        {
          "output_type": "execute_result",
          "data": {
            "text/plain": [
              "[Deal(symbol='PERI', sticker_price=66, price=35.07, percent_of_sticker=53),\n",
              " Deal(symbol='MELI', sticker_price=2500, price=1387.06, percent_of_sticker=55),\n",
              " Deal(symbol='MBUU', sticker_price=98, price=56.65, percent_of_sticker=57),\n",
              " Deal(symbol='CPRT', sticker_price=142, price=87.01, percent_of_sticker=61),\n",
              " Deal(symbol='NFLX', sticker_price=691, price=429.98, percent_of_sticker=62),\n",
              " Deal(symbol='ADSK', sticker_price=240, price=208.06, percent_of_sticker=87),\n",
              " Deal(symbol='TW', sticker_price=84, price=81.5, percent_of_sticker=97),\n",
              " Deal(symbol='DE', sticker_price=435, price=434.97, percent_of_sticker=100),\n",
              " Deal(symbol='ULTA', sticker_price=343, price=447.46, percent_of_sticker=130),\n",
              " Deal(symbol='LSTR', sticker_price=145, price=198.4, percent_of_sticker=137),\n",
              " Deal(symbol='GOOG', sticker_price=93, price=130.21, percent_of_sticker=140),\n",
              " Deal(symbol='UNH', sticker_price=350, price=503.39, percent_of_sticker=144),\n",
              " Deal(symbol='ARCB', sticker_price=75, price=109.43, percent_of_sticker=146),\n",
              " Deal(symbol='MCHP', sticker_price=44, price=83.31, percent_of_sticker=189),\n",
              " Deal(symbol='HOG', sticker_price=18, price=35.5, percent_of_sticker=197),\n",
              " Deal(symbol='AMAT', sticker_price=72, price=144.61, percent_of_sticker=200),\n",
              " Deal(symbol='TSCO', sticker_price=88, price=222.27, percent_of_sticker=252),\n",
              " Deal(symbol='MSFT', sticker_price=118, price=322.93, percent_of_sticker=274),\n",
              " Deal(symbol='ACN', sticker_price=110, price=310.335, percent_of_sticker=282),\n",
              " Deal(symbol='APH', sticker_price=23, price=87.9, percent_of_sticker=382),\n",
              " Deal(symbol='ON', sticker_price=24, price=97.73, percent_of_sticker=407),\n",
              " Deal(symbol='TSM', sticker_price=22, price=94.8, percent_of_sticker=430),\n",
              " Deal(symbol='ADBE', sticker_price=118, price=515.83, percent_of_sticker=437),\n",
              " Deal(symbol='TSLA', sticker_price=54, price=245.34, percent_of_sticker=454),\n",
              " Deal(symbol='ADI', sticker_price=37, price=184.71, percent_of_sticker=499),\n",
              " Deal(symbol='ANSS', sticker_price=57, price=298.01, percent_of_sticker=523),\n",
              " Deal(symbol='WSO', sticker_price=51, price=355.47, percent_of_sticker=697),\n",
              " Deal(symbol='UMC', sticker_price=0.97, price=7.085, percent_of_sticker=730),\n",
              " Deal(symbol='NVR', sticker_price=721, price=6112.98, percent_of_sticker=848),\n",
              " Deal(symbol='SNPS', sticker_price=50, price=431.39, percent_of_sticker=863),\n",
              " Deal(symbol='CMG', sticker_price=201, price=1845.67, percent_of_sticker=918),\n",
              " Deal(symbol='LSCC', sticker_price=0.5, price=87.65, percent_of_sticker=17530)]"
            ]
          },
          "metadata": {},
          "execution_count": 6
        }
      ]
    },
    {
      "cell_type": "markdown",
      "source": [
        "## Fixing Sticker Price"
      ],
      "metadata": {
        "id": "BUtb9qAZG0SS"
      }
    },
    {
      "cell_type": "code",
      "source": [
        "!pip install --quiet requests_futures"
      ],
      "metadata": {
        "id": "4I3fPJr2CoRf"
      },
      "execution_count": null,
      "outputs": []
    },
    {
      "cell_type": "code",
      "source": [
        "!rm -rf IsThisStockGood && git clone --quiet https://github.com/kocielnik/IsThisStockGood.git"
      ],
      "metadata": {
        "id": "qPySIbhG5OPm"
      },
      "execution_count": null,
      "outputs": []
    },
    {
      "cell_type": "code",
      "source": [
        "import sys\n",
        "sys.path.append(\"IsThisStockGood\")\n",
        "\n",
        "from src.DataFetcher import fetchDataForTickerSymbol\n",
        "\n",
        "data = fetchDataForTickerSymbol(\"MELI\")\n",
        "data"
      ],
      "metadata": {
        "colab": {
          "base_uri": "https://localhost:8080/"
        },
        "id": "PM9KNh3W6Ktk",
        "outputId": "836d2f05-aea7-43ef-a94a-076733bdabe5"
      },
      "execution_count": null,
      "outputs": [
        {
          "output_type": "stream",
          "name": "stderr",
          "text": [
            "WARNING:IsThisStockGood:Request returned with code 404 because of Not Found\n"
          ]
        },
        {
          "output_type": "execute_result",
          "data": {
            "text/plain": [
              "{'ticker': 'MELI',\n",
              " 'name': 'null',\n",
              " 'roic': [31.96, 17.24, -33.89, 3.95],\n",
              " 'eps': [473.05, 66.06, 98.57, 15.29],\n",
              " 'sales': [49.06, 66.17, 54.0, 41.19],\n",
              " 'equity': [17.97, -5.32, 37.52, 18.66],\n",
              " 'cash': [598.03, 99.23, 66.51, 64.42],\n",
              " 'total_debt': 5897000000.0,\n",
              " 'free_cash_flow': 2485000000.0,\n",
              " 'debt_payoff_time': 2.3730382293762577,\n",
              " 'debt_equity_ratio': 2.1168,\n",
              " 'margin_of_safety_price': 'null',\n",
              " 'current_price': 'null',\n",
              " 'sticker_price': 'null',\n",
              " 'payback_time': 'null',\n",
              " 'average_volume': 'null'}"
            ]
          },
          "metadata": {},
          "execution_count": 9
        }
      ]
    }
  ]
}