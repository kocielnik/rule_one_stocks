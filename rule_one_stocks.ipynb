{
  "nbformat": 4,
  "nbformat_minor": 0,
  "metadata": {
    "colab": {
      "provenance": [],
      "include_colab_link": true
    },
    "kernelspec": {
      "name": "python3",
      "display_name": "Python 3"
    },
    "language_info": {
      "name": "python"
    }
  },
  "cells": [
    {
      "cell_type": "markdown",
      "metadata": {
        "id": "view-in-github",
        "colab_type": "text"
      },
      "source": [
        "<a href=\"https://colab.research.google.com/github/kocielnik/rule_one_stocks/blob/main/rule_one_stocks.ipynb\" target=\"_parent\"><img src=\"https://colab.research.google.com/assets/colab-badge.svg\" alt=\"Open In Colab\"/></a>"
      ]
    },
    {
      "cell_type": "code",
      "source": [
        "%%file mos.py\n",
        "\n",
        "from yfinance import Ticker\n",
        "\n",
        "\n",
        "class Deal:\n",
        "\n",
        "    \"\"\"\n",
        "    >>> repr(Deal(\"tsla\", 1, 1))\n",
        "    'Deal(\"tsla\", 1, 1)'\n",
        "    \"\"\"\n",
        "\n",
        "    def __init__(\n",
        "        self, symbol, sticker_price, price\n",
        "    ):\n",
        "        self.symbol = symbol\n",
        "        self.sticker_price = sticker_price\n",
        "        self.price = price\n",
        "        self.percent_of_sticker_price = price / sticker_price * 100\n",
        "\n",
        "    def __repr__(self):\n",
        "        return f'Deal(\"{self.symbol}\", {self.sticker_price}, {self.price})'\n",
        "\n",
        "    def __eq__(self, other):\n",
        "        if self.symbol != other.symbol:\n",
        "            return False\n",
        "\n",
        "        if self.sticker_price != other.sticker_price:\n",
        "            return False\n",
        "\n",
        "        if self.price != other.price:\n",
        "            return False\n",
        "\n",
        "        return True\n",
        "\n",
        "class MockTicker:\n",
        "    def __init__(self, _):\n",
        "        self.info = {\n",
        "            \"currentPrice\": 352.5\n",
        "        }\n",
        "\n",
        "\n",
        "def get_price(symbol, Ticker=Ticker):\n",
        "    \"\"\"\n",
        "    >>> get_price(\"msft\", Ticker=MockTicker)\n",
        "    352.5\n",
        "    >>> get_price([])\n",
        "    {}\n",
        "    >>> get_price([\"msft\"], Ticker=MockTicker)\n",
        "    {'msft': 352.5}\n",
        "    \"\"\"\n",
        "    if type(symbol) == str:\n",
        "        price = Ticker(symbol).info[\"currentPrice\"]\n",
        "        return price\n",
        "\n",
        "    prices = {\n",
        "        the_symbol: get_price(the_symbol, Ticker=Ticker)\n",
        "        for the_symbol in symbol\n",
        "    }\n",
        "    return prices\n",
        "\n",
        "\n",
        "def get_deal(sticker_prices, Ticker=Ticker):\n",
        "    deals = []\n",
        "\n",
        "    for symbol in sticker_prices:\n",
        "        sticker_price = sticker_prices[symbol]\n",
        "        price = get_price(symbol, Ticker=Ticker)\n",
        "        deals.append(Deal(symbol, sticker_price, price))\n",
        "    \n",
        "    if len(sticker_prices) == 1:\n",
        "        return deals[0]\n",
        "    \n",
        "    return deals\n",
        "\n",
        "def test_get_deal_one():\n",
        "    sticker_prices = {\n",
        "        \"msft\": 118\n",
        "    }\n",
        "\n",
        "    deal = get_deal(sticker_prices, Ticker=MockTicker)\n",
        "\n",
        "    assert deal == Deal(\"msft\", 118, 352.5)\n",
        "\n",
        "def test_get_deal_multiple():\n",
        "    sticker_prices = {\n",
        "        \"msft\": 118,\n",
        "        \"tsm\": 22\n",
        "    }\n",
        "\n",
        "    deals = get_deal(sticker_prices, Ticker=MockTicker)\n",
        "\n",
        "    assert deals[0] == Deal(\"msft\", 118, 352.5)"
      ],
      "metadata": {
        "id": "0EptahUkFYlk",
        "colab": {
          "base_uri": "https://localhost:8080/"
        },
        "outputId": "abb08ca3-e2b8-4f27-9d10-87717ec2fa88"
      },
      "execution_count": 23,
      "outputs": [
        {
          "output_type": "stream",
          "name": "stdout",
          "text": [
            "Overwriting mos.py\n"
          ]
        }
      ]
    },
    {
      "cell_type": "code",
      "source": [
        "!pytest --doctest-modules mos.py"
      ],
      "metadata": {
        "colab": {
          "base_uri": "https://localhost:8080/"
        },
        "id": "0ZvmZV_eBUU0",
        "outputId": "ac1ed0fe-aaff-4cb6-8aef-a82f71de362d"
      },
      "execution_count": 24,
      "outputs": [
        {
          "output_type": "stream",
          "name": "stdout",
          "text": [
            "\u001b[1m============================= test session starts ==============================\u001b[0m\n",
            "platform linux -- Python 3.10.11, pytest-7.2.2, pluggy-1.0.0\n",
            "rootdir: /content\n",
            "plugins: anyio-3.6.2\n",
            "collected 4 items                                                              \u001b[0m\n",
            "\n",
            "mos.py \u001b[32m.\u001b[0m\u001b[32m.\u001b[0m\u001b[32m.\u001b[0m\u001b[32m.\u001b[0m\u001b[32m                                                              [100%]\u001b[0m\n",
            "\n",
            "\u001b[32m============================== \u001b[32m\u001b[1m4 passed\u001b[0m\u001b[32m in 0.97s\u001b[0m\u001b[32m ===============================\u001b[0m\n"
          ]
        }
      ]
    }
  ]
}