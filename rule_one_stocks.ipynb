{
  "nbformat": 4,
  "nbformat_minor": 0,
  "metadata": {
    "colab": {
      "provenance": [],
      "include_colab_link": true
    },
    "kernelspec": {
      "name": "python3",
      "display_name": "Python 3"
    },
    "language_info": {
      "name": "python"
    }
  },
  "cells": [
    {
      "cell_type": "markdown",
      "metadata": {
        "id": "view-in-github",
        "colab_type": "text"
      },
      "source": [
        "<a href=\"https://colab.research.google.com/github/kocielnik/rule_one_stocks/blob/main/rule_one_stocks.ipynb\" target=\"_parent\"><img src=\"https://colab.research.google.com/assets/colab-badge.svg\" alt=\"Open In Colab\"/></a>"
      ]
    },
    {
      "cell_type": "code",
      "source": [
        "%pip install --quiet git+https://gitlab.com/kocielnik/rule_one_stocks.git"
      ],
      "metadata": {
        "colab": {
          "base_uri": "https://localhost:8080/"
        },
        "id": "3qATSaBvDJUR",
        "outputId": "16d9d28f-5290-4f16-c09e-fae08e5bafff"
      },
      "execution_count": 1,
      "outputs": [
        {
          "output_type": "stream",
          "name": "stdout",
          "text": [
            "  Installing build dependencies ... \u001b[?25l\u001b[?25hdone\n",
            "  Getting requirements to build wheel ... \u001b[?25l\u001b[?25hdone\n",
            "  Preparing metadata (pyproject.toml) ... \u001b[?25l\u001b[?25hdone\n",
            "\u001b[33mWARNING: Running pip as the 'root' user can result in broken permissions and conflicting behaviour with the system package manager. It is recommended to use a virtual environment instead: https://pip.pypa.io/warnings/venv\u001b[0m\u001b[33m\n",
            "\u001b[0m"
          ]
        }
      ]
    },
    {
      "cell_type": "markdown",
      "source": [
        "## Example"
      ],
      "metadata": {
        "id": "vf5papOdGR08"
      }
    },
    {
      "cell_type": "code",
      "source": [
        "# symbol: sticker_price\n",
        "watch_list_items = {'TSM': 22,\n",
        " 'ON': 24,\n",
        " 'TSLA': 54,\n",
        " 'MSFT': 118,\n",
        " 'APH': 23,\n",
        " 'LSCC': 0.5,\n",
        " 'ACN': 110,\n",
        " 'GOOG': 93,\n",
        " 'ADBE': 118,\n",
        " 'ADI': 37,\n",
        " 'ANSS': 57,\n",
        " 'AMAT': 72,\n",
        " 'MELI': 2500,\n",
        " 'MCHP': 44,\n",
        " 'TSCO': 88,\n",
        " 'SNPS': 50,\n",
        " 'CPRT': 142,\n",
        " 'UMC': 0.97,\n",
        " 'ARCB': 75,\n",
        " 'MBUU': 98,\n",
        " 'PERI': 66,\n",
        " 'NVR': 721,\n",
        " 'WSO': 51,\n",
        " 'WEEV': None,\n",
        " 'UNH': 350,\n",
        " 'HOG': 18,\n",
        " 'ULTA': 343,\n",
        " 'TW': 84,\n",
        " 'CMG': 201,\n",
        " 'ADSK': 240,\n",
        " 'DE': 435,\n",
        " 'LSTR': 145,\n",
        " 'MU': None,\n",
        " 'NFLX': 691,\n",
        " 'ABNB': None,\n",
        " 'STM': None}"
      ],
      "metadata": {
        "id": "fy4CLvNLGjPx"
      },
      "execution_count": 2,
      "outputs": []
    },
    {
      "cell_type": "code",
      "source": [
        "from rule_one import with_preview, get_stickers\n",
        "\n",
        "stickers = with_preview(get_stickers(watch_list_items))"
      ],
      "metadata": {
        "colab": {
          "base_uri": "https://localhost:8080/"
        },
        "id": "ncBGsQbxGu64",
        "outputId": "b1aedb3c-c318-46d0-f651-08c575db1ea8"
      },
      "execution_count": 3,
      "outputs": [
        {
          "output_type": "stream",
          "name": "stdout",
          "text": [
            "{}\n"
          ]
        }
      ]
    },
    {
      "cell_type": "code",
      "source": [
        "watch_list_items.update(stickers)\n",
        "watch_list_items"
      ],
      "metadata": {
        "colab": {
          "base_uri": "https://localhost:8080/"
        },
        "id": "mYr5QEAxG0Qu",
        "outputId": "723936cf-a0c6-4a4e-8bdd-6e97849af481"
      },
      "execution_count": 4,
      "outputs": [
        {
          "output_type": "execute_result",
          "data": {
            "text/plain": [
              "{'TSM': 22,\n",
              " 'ON': 24,\n",
              " 'TSLA': 54,\n",
              " 'MSFT': 118,\n",
              " 'APH': 23,\n",
              " 'LSCC': 0.5,\n",
              " 'ACN': 110,\n",
              " 'GOOG': 93,\n",
              " 'ADBE': 118,\n",
              " 'ADI': 37,\n",
              " 'ANSS': 57,\n",
              " 'AMAT': 72,\n",
              " 'MELI': 2500,\n",
              " 'MCHP': 44,\n",
              " 'TSCO': 88,\n",
              " 'SNPS': 50,\n",
              " 'CPRT': 142,\n",
              " 'UMC': 0.97,\n",
              " 'ARCB': 75,\n",
              " 'MBUU': 98,\n",
              " 'PERI': 66,\n",
              " 'NVR': 721,\n",
              " 'WSO': 51,\n",
              " 'WEEV': None,\n",
              " 'UNH': 350,\n",
              " 'HOG': 18,\n",
              " 'ULTA': 343,\n",
              " 'TW': 84,\n",
              " 'CMG': 201,\n",
              " 'ADSK': 240,\n",
              " 'DE': 435,\n",
              " 'LSTR': 145,\n",
              " 'MU': None,\n",
              " 'NFLX': 691,\n",
              " 'ABNB': None,\n",
              " 'STM': None}"
            ]
          },
          "metadata": {},
          "execution_count": 4
        }
      ]
    },
    {
      "cell_type": "code",
      "source": [
        "from rule_one import Company, Deal\n",
        "\n",
        "companies = [\n",
        "    Company(symbol=symbol, sticker_price=watch_list_items[symbol])\n",
        "    for symbol in watch_list_items.keys()\n",
        "    if watch_list_items[symbol] is not None\n",
        "]\n",
        "\n",
        "deals = Deal.from_(companies)\n",
        "deals"
      ],
      "metadata": {
        "id": "oq27C01krZhL"
      },
      "execution_count": null,
      "outputs": []
    },
    {
      "cell_type": "markdown",
      "source": [
        "## Sticker Price"
      ],
      "metadata": {
        "id": "BUtb9qAZG0SS"
      }
    },
    {
      "cell_type": "code",
      "source": [
        "!pip install --quiet yfinance"
      ],
      "metadata": {
        "id": "zimtS_AVDov-"
      },
      "execution_count": null,
      "outputs": []
    },
    {
      "cell_type": "code",
      "source": [
        "from types import SimpleNamespace\n",
        "from yfinance import Ticker"
      ],
      "metadata": {
        "id": "CM7DeHwFDql8"
      },
      "execution_count": null,
      "outputs": []
    },
    {
      "cell_type": "code",
      "source": [
        "def get_eps_ppe_and_expected_growth(ticker, info=None):\n",
        "  \"\"\"\n",
        "  >>> ticker = Ticker(\"MSFT\")\n",
        "  >>> data = get_get_eps_ppe_and_expected_growth(ticker, info=test_info)\n",
        "  >>> data\n",
        "  \"\"\"\n",
        "  if info is None:\n",
        "    income_statement = ticker.get_info()\n",
        "\n",
        "  sticker_price_data = SimpleNamespace(\n",
        "    eps=info[\"trailingEps\"],\n",
        "    future_eps=info[\"forwardEps\"],\n",
        "    ppe=info[\"trailingPE\"],\n",
        "    future_ppe=info[\"forwardPE\"],\n",
        "    name=info[\"longName\"],\n",
        "    symbol=info[\"symbol\"],\n",
        "    price=info['currentPrice'],\n",
        "  )\n",
        "\n",
        "  return sticker_price_data\n",
        "\n",
        "def get_analyst_target_price(ticker, info=None):\n",
        "  analyst_target_price = SimpleNamespace(\n",
        "    high=info['targetHighPrice'],\n",
        "    low=info['targetLowPrice'],\n",
        "    mean=info['targetMeanPrice'],\n",
        "    median=info['targetMedianPrice']\n",
        "  )\n",
        "\n",
        "  return analyst_target_price\n",
        "\n",
        "symbol = \"MELI\"\n",
        "\n",
        "try:\n",
        "  ticker = ticker\n",
        "except NameError:\n",
        "  ticker = Ticker(symbol)\n",
        "\n",
        "test_info = ticker.info\n",
        "\n",
        "growth_url = f\"https://finance.yahoo.com/quote/{symbol}/analysis?p={symbol}\"\n",
        "\n",
        "growth_estimate = float(input(f\"Enter a growth estimate from {growth_url}:\"))\n",
        "\n",
        "data = get_eps_ppe_and_expected_growth(ticker, info=test_info)\n",
        "print(data)\n",
        "\n",
        "target_price = get_analyst_target_price(ticker, info=test_info)\n",
        "print(target_price)"
      ],
      "metadata": {
        "colab": {
          "base_uri": "https://localhost:8080/"
        },
        "id": "d9x0JIX1Dr6p",
        "outputId": "ea070150-8641-4461-c750-4f3242a06f72"
      },
      "execution_count": null,
      "outputs": [
        {
          "output_type": "stream",
          "name": "stdout",
          "text": [
            "Enter a growth estimate from https://finance.yahoo.com/quote/MELI/analysis?p=MELI:49.40\n",
            "namespace(eps=14.62, future_eps=28.38, ppe=83.690155, future_ppe=43.11311, name='MercadoLibre, Inc.', symbol='MELI', price=1223.55)\n",
            "namespace(high=2180.0, low=1350.0, mean=1640.68, median=1625.0)\n"
          ]
        }
      ]
    }
  ]
}