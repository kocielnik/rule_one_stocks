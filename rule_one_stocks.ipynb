{
  "nbformat": 4,
  "nbformat_minor": 0,
  "metadata": {
    "colab": {
      "provenance": [],
      "include_colab_link": true
    },
    "kernelspec": {
      "name": "python3",
      "display_name": "Python 3"
    },
    "language_info": {
      "name": "python"
    }
  },
  "cells": [
    {
      "cell_type": "markdown",
      "metadata": {
        "id": "view-in-github",
        "colab_type": "text"
      },
      "source": [
        "<a href=\"https://colab.research.google.com/github/kocielnik/rule_one_stocks/blob/main/rule_one_stocks.ipynb\" target=\"_parent\"><img src=\"https://colab.research.google.com/assets/colab-badge.svg\" alt=\"Open In Colab\"/></a>"
      ]
    },
    {
      "cell_type": "markdown",
      "source": [
        "## Custom functions"
      ],
      "metadata": {
        "id": "OWBKewfHGtYj"
      }
    },
    {
      "cell_type": "code",
      "source": [
        "%%file deals.py\n",
        "\n",
        "\"\"\"\n",
        "Sue is a Rule One Investor.\n",
        "\n",
        "She wants to check stock prices daily to see if any Rule One deals are available\n",
        "for her.\n",
        "\n",
        "For simplicity and robustness of examples, the `Ticker` class in these examples\n",
        "is replaced with MockTicker.\n",
        "\n",
        "When Sue uses this program, she always omits the part `Ticker=MockTicker`.\n",
        "\n",
        "\n",
        "One day, Sue wants to check the price of a single stock.\n",
        "\n",
        ">>> company = Company(symbol=\"tsm\", sticker_price=11)\n",
        ">>> get_deal(company, Ticker=MockTicker)\n",
        "Deal(symbol='tsm', sticker_price=11, price=98, percent_of_sticker=891)\n",
        "\n",
        "\n",
        "On another day, Sue has several companies she wants to check the price of.\n",
        "\n",
        "To the same method `get_deal`, she can pass a list of companies the same way\n",
        "she passed a single company.\n",
        "\n",
        ">>> companies = [\n",
        "...  Company(symbol=\"msft\", sticker_price=118),\n",
        "...  Company(symbol=\"tsm\", sticker_price=11)\n",
        "... ]\n",
        ">>> deals = get_deal(companies, Ticker=MockTicker)\n",
        ">>> deals[0]\n",
        "Deal(symbol='msft', sticker_price=118, price=352.5, percent_of_sticker=299)\n",
        ">>> deals[1]\n",
        "Deal(symbol='tsm', sticker_price=11, price=98, percent_of_sticker=891)\n",
        "\n",
        "\n",
        "Sue wants the results to be sorted in the order of the best deal available.\n",
        "\n",
        "Best deal means the largest Margin of Safety (MOS).\n",
        "\n",
        "If companies are not sorted in the order of the best deal, the results *should*\n",
        "be.\n",
        "\n",
        "Note the order of input companies is reversed with respect to the previous example.\n",
        "\n",
        ">>> companies = [\n",
        "...  Company(symbol=\"tsm\", sticker_price=11),\n",
        "...  Company(symbol=\"msft\", sticker_price=118)\n",
        "... ]\n",
        ">>> deals = get_deal(companies, Ticker=MockTicker)\n",
        ">>> deals[0]\n",
        "Deal(symbol='msft', sticker_price=118, price=352.5, percent_of_sticker=299)\n",
        "\n",
        "\n",
        "Sue says the interface is too complicated for her, and she would love to\n",
        "be able to initialize Deal instances directly from Company instances.\n",
        "\n",
        ">>> companies = [\n",
        "...  Company(symbol=\"tsm\", sticker_price=11),\n",
        "...  Company(symbol=\"msft\", sticker_price=118)\n",
        "... ]\n",
        ">>> deals = Deal.from_(companies, Ticker=MockTicker)\n",
        ">>> deals[0]\n",
        "Deal(symbol='msft', sticker_price=118, price=352.5, percent_of_sticker=299)\n",
        "\"\"\"\n",
        "\n",
        "from typing import NamedTuple\n",
        "from yfinance import Ticker\n",
        "from requests import get\n",
        "from functools import lru_cache\n",
        "\n",
        "\n",
        "class Company(NamedTuple):\n",
        "    symbol: str\n",
        "    sticker_price: float\n",
        "\n",
        "\n",
        "class Deal(NamedTuple):\n",
        "\n",
        "    symbol: str\n",
        "    sticker_price: float\n",
        "    price: float\n",
        "    percent_of_sticker: int\n",
        "\n",
        "    \"\"\"\n",
        "    Sue wants to print an instance of this class and be able to copy-paste\n",
        "    it into another place, or save it for later pasting.\n",
        "\n",
        "    >>> Deal(symbol='msft', sticker_price=1, price=1)\n",
        "    Deal(symbol='msft', sticker_price=1, price=1)\n",
        "\n",
        "\n",
        "    Sue wants to be able to compare instances of `Deal` to check for equality,\n",
        "    in order to remove duplicates from lists if any are found.\n",
        "\n",
        "    She does not remember, *why* exactly she wanted this feature. Still, she\n",
        "    insists it should be available.\n",
        "\n",
        "    >>> deal_1 = Deal(symbol='msft', sticker_price=1, price=1)\n",
        "    >>> deal_2 = Deal(symbol='msft', sticker_price=1, price=1)\n",
        "    >>> deal_1 == deal_2\n",
        "    True\n",
        "    \"\"\"\n",
        "\n",
        "    def __eq__(self, other):\n",
        "        if repr(other) != repr(self):\n",
        "            return False\n",
        "        return True\n",
        "\n",
        "    def __lt__(self, other):\n",
        "        return self.percent_of_sticker < other.percent_of_sticker\n",
        "\n",
        "    @staticmethod\n",
        "    def from_(company, Ticker=Ticker):\n",
        "        deal = get_deal(company, Ticker=Ticker)\n",
        "        return deal\n",
        "\n",
        "\n",
        "class MockTicker:\n",
        "    def __init__(self, symbol):\n",
        "        price = 352.5 if symbol == \"msft\" else 98\n",
        "\n",
        "        self.info = {\n",
        "            \"currentPrice\": price\n",
        "        }\n",
        "\n",
        "\n",
        "def get_price(symbol, Ticker=Ticker):\n",
        "\n",
        "    \"\"\"\n",
        "    >>> get_price(\"msft\", Ticker=MockTicker)\n",
        "    352.5\n",
        "    >>> get_price([])\n",
        "    {}\n",
        "    >>> get_price([\"msft\"], Ticker=MockTicker)\n",
        "    {'msft': 352.5}\n",
        "    \"\"\"\n",
        "\n",
        "    if type(symbol) == str:\n",
        "        price = Ticker(symbol).info[\"currentPrice\"]\n",
        "        return price\n",
        "\n",
        "    prices = {\n",
        "        the_symbol: get_price(the_symbol, Ticker=Ticker)\n",
        "        for the_symbol in symbol\n",
        "    }\n",
        "    return prices\n",
        "\n",
        "def get_percent_of_sticker(price, sticker_price):\n",
        "    return int(100 * round(price/sticker_price, 2))\n",
        "\n",
        "def get_deal(company, Ticker=Ticker):\n",
        "\n",
        "    \"\"\"\n",
        "    >>> company = Company(symbol=\"msft\", sticker_price=118)\n",
        "    >>> deal = get_deal(company, Ticker=MockTicker)\n",
        "    >>> deal\n",
        "    Deal(symbol='msft', sticker_price=118, price=352.5, percent_of_sticker=299)\n",
        "    \"\"\"\n",
        "\n",
        "    if isinstance(company, list):\n",
        "        return get_deals(company, Ticker=Ticker)\n",
        "\n",
        "    price = get_price(company.symbol, Ticker=Ticker)\n",
        "    return Deal(\n",
        "        symbol=company.symbol,\n",
        "        sticker_price=company.sticker_price,\n",
        "        price=price,\n",
        "        percent_of_sticker=get_percent_of_sticker(price, company.sticker_price)\n",
        "    )\n",
        "\n",
        "def get_deals(companies, Ticker=Ticker):\n",
        "\n",
        "    \"\"\"\n",
        "    >>> companies = [\n",
        "    ...   Company(\"msft\", 118),\n",
        "    ...   Company(\"tsm\", 22)\n",
        "    ... ]\n",
        "    >>> deals = get_deals(companies, Ticker=MockTicker)\n",
        "    >>> deals[0]\n",
        "    Deal(symbol='msft', sticker_price=118, price=352.5, percent_of_sticker=299)\n",
        "    \"\"\"\n",
        "\n",
        "    sticker_prices = {\n",
        "        company.symbol: company.sticker_price\n",
        "        for company in companies\n",
        "    }\n",
        "\n",
        "    deals = []\n",
        "    for symbol in sticker_prices.keys():\n",
        "        price = get_price(symbol, Ticker=Ticker)\n",
        "        sticker_price=sticker_prices[symbol]\n",
        "        deals.append(\n",
        "            Deal(symbol=symbol,\n",
        "                 sticker_price=sticker_price,\n",
        "                 price=price,\n",
        "                 percent_of_sticker=get_percent_of_sticker(price, sticker_price)\n",
        "            )\n",
        "        )\n",
        "\n",
        "    return sorted(deals)\n",
        "\n",
        "def mock_get_sticker_price(symbol):\n",
        "    class MockResponse:\n",
        "        def json():\n",
        "            return {\"sticker_price\": {\"value\": 22}}\n",
        "\n",
        "    return MockResponse\n",
        "\n",
        "@lru_cache\n",
        "def get_sticker(symbol, api_host=\"143.42.16.225:8080\", get=get):\n",
        "    \"\"\"\n",
        "    >>> round(get_sticker(\"tsm\", get=mock_get_sticker_price))\n",
        "    22\n",
        "    \"\"\"\n",
        "    url = f\"http://{api_host}/search/{symbol}\"\n",
        "    result = get(url).json()[\"sticker_price\"][\"value\"]\n",
        "    return result\n",
        "\n",
        "def round_sticker(sticker):\n",
        "\n",
        "    \"\"\"\n",
        "    Prices above $2 should be rounded to the nearest integer.\n",
        "    >>> round_sticker(22.01)\n",
        "    22\n",
        "\n",
        "    Prices below $2 should be rounded to full cents.\n",
        "    >>> round_sticker(0.512)\n",
        "    0.51\n",
        "    \"\"\"\n",
        "    return round(sticker) if sticker >= 2 else round(sticker, 2)\n",
        "\n",
        "def is_valid_sticker(result):\n",
        "    return result is not None and result >= 0\n",
        "\n",
        "def get_stickers(items):\n",
        "    stickers = {}\n",
        "    for key in items.keys():\n",
        "        result = get_sticker(key)\n",
        "        if is_valid_sticker(result):\n",
        "            stickers[key] = round_sticker(result)\n",
        "    return stickers\n",
        "\n",
        "def with_preview(value):\n",
        "    print(value)\n",
        "    return value\n",
        "\n",
        "\n",
        "class StickerPriceIngredients(NamedTuple):\n",
        "\n",
        "    \"\"\"\n",
        "    >>> inputs = StickerPriceIngredients(\n",
        "    ...     current_eps=1.31,\n",
        "    ...     future_growth_rate_percent=15,\n",
        "    ...     future_pe=30,\n",
        "    ...     minimum_acceptable_rate_of_return_percent=15,\n",
        "    ...     years=10\n",
        "    ... )\n",
        "    \"\"\"\n",
        "\n",
        "    current_eps: float\n",
        "    future_growth_rate_percent: float\n",
        "    future_pe: float\n",
        "    minimum_acceptable_rate_of_return_percent: float\n",
        "    years: int\n",
        "\n",
        "\n",
        "\n",
        "class StickerPriceResults(NamedTuple):\n",
        "\n",
        "    \"\"\"\n",
        "    Compare https://www.ruleoneinvesting.com/margin-of-safety-calculator/\n",
        "\n",
        "    >>> outputs = StickerPriceResults(\n",
        "    ...     future_eps=11,\n",
        "    ...     future_value=254,\n",
        "    ...     sticker_price=63,\n",
        "    ...     mosp=31\n",
        "    ... )\n",
        "    >>> outputs.future_eps\n",
        "    11\n",
        "    \"\"\"\n",
        "\n",
        "    future_eps: float\n",
        "    future_value: float\n",
        "    sticker_price: float\n",
        "    mosp: float\n",
        "\n",
        "def get_sticker_price():\n",
        "\n",
        "    \"\"\"\n",
        "    Expected results - not attained yet:\n",
        "\n",
        "    >>> get_sticker_price().future_eps\n",
        "    10.48\n",
        "\n",
        "    Should be 11.\n",
        "\n",
        "    >>> get_sticker_price().future_value\n",
        "    314\n",
        "\n",
        "    Should be 254.\n",
        "    \"\"\"\n",
        "\n",
        "    ingredients = StickerPriceIngredients(\n",
        "        current_eps=1.31,\n",
        "        future_growth_rate_percent=15,\n",
        "        future_pe=30,\n",
        "        minimum_acceptable_rate_of_return_percent=15,\n",
        "        years=10\n",
        "    )\n",
        "\n",
        "    years_to_double = 72 // ingredients.future_growth_rate_percent\n",
        "    num_doubles = ingredients.years // years_to_double\n",
        "    future_eps = 2 ** (1 + num_doubles) * ingredients.current_eps\n",
        "\n",
        "    future_value = round(future_eps*ingredients.future_pe)\n",
        "\n",
        "    results = StickerPriceResults(\n",
        "        future_eps=future_eps,\n",
        "        future_value=future_value,\n",
        "        sticker_price=0,\n",
        "        mosp=0\n",
        "    )\n",
        "\n",
        "    return results"
      ],
      "metadata": {
        "id": "0EptahUkFYlk",
        "colab": {
          "base_uri": "https://localhost:8080/"
        },
        "outputId": "1a971485-409c-4aef-ecd8-6421dc07f8e8"
      },
      "execution_count": 4,
      "outputs": [
        {
          "output_type": "stream",
          "name": "stdout",
          "text": [
            "Writing deals.py\n"
          ]
        }
      ]
    },
    {
      "cell_type": "markdown",
      "source": [
        "### Tests"
      ],
      "metadata": {
        "id": "g6ocXWETHIus"
      }
    },
    {
      "cell_type": "code",
      "source": [
        "!pytest --doctest-modules deals.py"
      ],
      "metadata": {
        "colab": {
          "base_uri": "https://localhost:8080/"
        },
        "id": "0ZvmZV_eBUU0",
        "outputId": "8313c5b2-951d-47aa-dfe9-2151e1b0b27b"
      },
      "execution_count": 5,
      "outputs": [
        {
          "output_type": "stream",
          "name": "stdout",
          "text": [
            "\u001b[1m============================= test session starts ==============================\u001b[0m\n",
            "platform linux -- Python 3.10.12, pytest-7.4.2, pluggy-1.3.0\n",
            "rootdir: /content\n",
            "plugins: anyio-3.7.1\n",
            "collected 9 items                                                              \u001b[0m\n",
            "\n",
            "deals.py \u001b[32m.\u001b[0m\u001b[32m.\u001b[0m\u001b[32m.\u001b[0m\u001b[32m.\u001b[0m\u001b[32m.\u001b[0m\u001b[32m.\u001b[0m\u001b[32m.\u001b[0m\u001b[32m.\u001b[0m\u001b[32m.\u001b[0m\u001b[32m                                                       [100%]\u001b[0m\n",
            "\n",
            "\u001b[32m============================== \u001b[32m\u001b[1m9 passed\u001b[0m\u001b[32m in 0.65s\u001b[0m\u001b[32m ===============================\u001b[0m\n"
          ]
        }
      ]
    },
    {
      "cell_type": "code",
      "source": [
        "# symbol: sticker_price\n",
        "watch_list_items = {'TSM': 22,\n",
        " 'ON': 24,\n",
        " 'TSLA': 54,\n",
        " 'MSFT': 118,\n",
        " 'APH': 23,\n",
        " 'LSCC': 0.5,\n",
        " 'ACN': 110,\n",
        " 'GOOG': 93,\n",
        " 'ADBE': 118,\n",
        " 'ADI': 37,\n",
        " 'ANSS': 57,\n",
        " 'AMAT': 72,\n",
        " 'MELI': 2500,\n",
        " 'MCHP': 44,\n",
        " 'TSCO': 88,\n",
        " 'SNPS': 50,\n",
        " 'CPRT': 142,\n",
        " 'UMC': 0.97,\n",
        " 'ARCB': 75,\n",
        " 'MBUU': 98,\n",
        " 'PERI': 66,\n",
        " 'NVR': 721,\n",
        " 'WSO': 51,\n",
        " 'WEEV': None,\n",
        " 'UNH': 350,\n",
        " 'HOG': 18,\n",
        " 'ULTA': 343,\n",
        " 'TW': 84,\n",
        " 'CMG': 201,\n",
        " 'ADSK': 240,\n",
        " 'DE': 435,\n",
        " 'LSTR': 145,\n",
        " 'MU': None,\n",
        " 'NFLX': 691,\n",
        " 'ABNB': None,\n",
        " 'STM': None}"
      ],
      "metadata": {
        "id": "UkOsFP2DaPti"
      },
      "execution_count": 6,
      "outputs": []
    },
    {
      "cell_type": "markdown",
      "source": [
        "## Update sticker prices if available"
      ],
      "metadata": {
        "id": "LzFwAwrRHNGc"
      }
    },
    {
      "cell_type": "code",
      "source": [
        "from deals import with_preview, get_stickers\n",
        "\n",
        "stickers = with_preview(get_stickers(watch_list_items))"
      ],
      "metadata": {
        "id": "W5ldclGsatqa",
        "colab": {
          "base_uri": "https://localhost:8080/"
        },
        "outputId": "ab29fa6c-8b16-4ee2-a43a-c58b9bd20453"
      },
      "execution_count": 7,
      "outputs": [
        {
          "output_type": "stream",
          "name": "stdout",
          "text": [
            "{}\n"
          ]
        }
      ]
    },
    {
      "cell_type": "code",
      "source": [
        "watch_list_items.update(stickers)\n",
        "watch_list_items"
      ],
      "metadata": {
        "id": "vewIQLqkHGx7",
        "colab": {
          "base_uri": "https://localhost:8080/"
        },
        "outputId": "226f0e1c-cede-435e-d59b-6815c8ca7f68"
      },
      "execution_count": 8,
      "outputs": [
        {
          "output_type": "execute_result",
          "data": {
            "text/plain": [
              "{'TSM': 22,\n",
              " 'ON': 24,\n",
              " 'TSLA': 54,\n",
              " 'MSFT': 118,\n",
              " 'APH': 23,\n",
              " 'LSCC': 0.5,\n",
              " 'ACN': 110,\n",
              " 'GOOG': 93,\n",
              " 'ADBE': 118,\n",
              " 'ADI': 37,\n",
              " 'ANSS': 57,\n",
              " 'AMAT': 72,\n",
              " 'MELI': 2500,\n",
              " 'MCHP': 44,\n",
              " 'TSCO': 88,\n",
              " 'SNPS': 50,\n",
              " 'CPRT': 142,\n",
              " 'UMC': 0.97,\n",
              " 'ARCB': 75,\n",
              " 'MBUU': 98,\n",
              " 'PERI': 66,\n",
              " 'NVR': 721,\n",
              " 'WSO': 51,\n",
              " 'WEEV': None,\n",
              " 'UNH': 350,\n",
              " 'HOG': 18,\n",
              " 'ULTA': 343,\n",
              " 'TW': 84,\n",
              " 'CMG': 201,\n",
              " 'ADSK': 240,\n",
              " 'DE': 435,\n",
              " 'LSTR': 145,\n",
              " 'MU': None,\n",
              " 'NFLX': 691,\n",
              " 'ABNB': None,\n",
              " 'STM': None}"
            ]
          },
          "metadata": {},
          "execution_count": 8
        }
      ]
    },
    {
      "cell_type": "markdown",
      "source": [
        "## Example"
      ],
      "metadata": {
        "id": "vf5papOdGR08"
      }
    },
    {
      "cell_type": "code",
      "source": [
        "# Import classes, reload if needed.\n",
        "from importlib import reload; import deals; reload(deals)\n",
        "from deals import Company, Deal\n",
        "\n",
        "#\n",
        "companies = [\n",
        "    Company(symbol=symbol, sticker_price=watch_list_items[symbol])\n",
        "    for symbol in watch_list_items.keys()\n",
        "    if watch_list_items[symbol] is not None\n",
        "]\n",
        "\n",
        "deals = Deal.from_(companies)\n",
        "deals"
      ],
      "metadata": {
        "id": "oq27C01krZhL",
        "colab": {
          "base_uri": "https://localhost:8080/"
        },
        "outputId": "60bc8be1-9e69-4406-ed8d-146dc49d2ef0"
      },
      "execution_count": 9,
      "outputs": [
        {
          "output_type": "execute_result",
          "data": {
            "text/plain": [
              "[Deal(symbol='CPRT', sticker_price=142, price=43.385, percent_of_sticker=31),\n",
              " Deal(symbol='PERI', sticker_price=66, price=30.285, percent_of_sticker=46),\n",
              " Deal(symbol='MELI', sticker_price=2500, price=1222.33, percent_of_sticker=49),\n",
              " Deal(symbol='MBUU', sticker_price=98, price=48.81, percent_of_sticker=50),\n",
              " Deal(symbol='NFLX', sticker_price=691, price=373.915, percent_of_sticker=54),\n",
              " Deal(symbol='ADSK', sticker_price=240, price=205.58, percent_of_sticker=86),\n",
              " Deal(symbol='DE', sticker_price=435, price=375.99, percent_of_sticker=86),\n",
              " Deal(symbol='TW', sticker_price=84, price=80.395, percent_of_sticker=96),\n",
              " Deal(symbol='ULTA', sticker_price=343, price=395.49, percent_of_sticker=114),\n",
              " Deal(symbol='LSTR', sticker_price=145, price=175.06, percent_of_sticker=121),\n",
              " Deal(symbol='ARCB', sticker_price=75, price=98.19, percent_of_sticker=131),\n",
              " Deal(symbol='GOOG', sticker_price=93, price=135.26, percent_of_sticker=145),\n",
              " Deal(symbol='UNH', sticker_price=350, price=507.2025, percent_of_sticker=145),\n",
              " Deal(symbol='HOG', sticker_price=18, price=31.09, percent_of_sticker=173),\n",
              " Deal(symbol='MCHP', sticker_price=44, price=77.145, percent_of_sticker=175),\n",
              " Deal(symbol='AMAT', sticker_price=72, price=138.31, percent_of_sticker=192),\n",
              " Deal(symbol='TSCO', sticker_price=88, price=205.12, percent_of_sticker=233),\n",
              " Deal(symbol='MSFT', sticker_price=118, price=316.51, percent_of_sticker=268),\n",
              " Deal(symbol='ACN', sticker_price=110, price=308.22, percent_of_sticker=280),\n",
              " Deal(symbol='APH', sticker_price=23, price=82.625, percent_of_sticker=359),\n",
              " Deal(symbol='ON', sticker_price=24, price=89.35, percent_of_sticker=372),\n",
              " Deal(symbol='TSM', sticker_price=22, price=86.08, percent_of_sticker=391),\n",
              " Deal(symbol='ADBE', sticker_price=118, price=513.885, percent_of_sticker=434),\n",
              " Deal(symbol='ADI', sticker_price=37, price=172.94, percent_of_sticker=467),\n",
              " Deal(symbol='TSLA', sticker_price=54, price=256.895, percent_of_sticker=476),\n",
              " Deal(symbol='ANSS', sticker_price=57, price=287.63, percent_of_sticker=505),\n",
              " Deal(symbol='UMC', sticker_price=0.97, price=6.8401, percent_of_sticker=705),\n",
              " Deal(symbol='WSO', sticker_price=51, price=380.49, percent_of_sticker=746),\n",
              " Deal(symbol='NVR', sticker_price=721, price=5914.72, percent_of_sticker=819),\n",
              " Deal(symbol='SNPS', sticker_price=50, price=458.58, percent_of_sticker=917),\n",
              " Deal(symbol='CMG', sticker_price=201, price=1855.15, percent_of_sticker=923),\n",
              " Deal(symbol='LSCC', sticker_price=0.5, price=78.75, percent_of_sticker=15750)]"
            ]
          },
          "metadata": {},
          "execution_count": 9
        }
      ]
    },
    {
      "cell_type": "markdown",
      "source": [
        "## Sticker Price"
      ],
      "metadata": {
        "id": "BUtb9qAZG0SS"
      }
    },
    {
      "cell_type": "code",
      "source": [
        "!pip install --quiet yfinance"
      ],
      "metadata": {
        "id": "zimtS_AVDov-"
      },
      "execution_count": 10,
      "outputs": []
    },
    {
      "cell_type": "code",
      "source": [
        "from types import SimpleNamespace\n",
        "from yfinance import Ticker"
      ],
      "metadata": {
        "id": "CM7DeHwFDql8"
      },
      "execution_count": 11,
      "outputs": []
    },
    {
      "cell_type": "code",
      "source": [
        "def get_eps_ppe_and_expected_growth(ticker, info=None):\n",
        "  \"\"\"\n",
        "  >>> ticker = Ticker(\"MSFT\")\n",
        "  >>> data = get_get_eps_ppe_and_expected_growth(ticker, info=test_info)\n",
        "  >>> data\n",
        "  \"\"\"\n",
        "  if info is None:\n",
        "    income_statement = ticker.get_info()\n",
        "\n",
        "  sticker_price_data = SimpleNamespace(\n",
        "    eps=info[\"trailingEps\"],\n",
        "    future_eps=info[\"forwardEps\"],\n",
        "    ppe=info[\"trailingPE\"],\n",
        "    future_ppe=info[\"forwardPE\"],\n",
        "    name=info[\"longName\"],\n",
        "    symbol=info[\"symbol\"],\n",
        "    price=info['currentPrice'],\n",
        "  )\n",
        "\n",
        "  return sticker_price_data\n",
        "\n",
        "def get_analyst_target_price(ticker, info=None):\n",
        "  analyst_target_price = SimpleNamespace(\n",
        "    high=info['targetHighPrice'],\n",
        "    low=info['targetLowPrice'],\n",
        "    mean=info['targetMeanPrice'],\n",
        "    median=info['targetMedianPrice']\n",
        "  )\n",
        "\n",
        "  return analyst_target_price\n",
        "\n",
        "symbol = \"MELI\"\n",
        "\n",
        "try:\n",
        "  ticker = ticker\n",
        "except NameError:\n",
        "  ticker = Ticker(symbol)\n",
        "\n",
        "test_info = ticker.info\n",
        "\n",
        "growth_url = f\"https://finance.yahoo.com/quote/{symbol}/analysis?p={symbol}\"\n",
        "\n",
        "growth_estimate = float(input(f\"Enter a growth estimate from {growth_url}:\"))\n",
        "\n",
        "data = get_eps_ppe_and_expected_growth(ticker, info=test_info)\n",
        "print(data)\n",
        "\n",
        "target_price = get_analyst_target_price(ticker, info=test_info)\n",
        "print(target_price)"
      ],
      "metadata": {
        "colab": {
          "base_uri": "https://localhost:8080/"
        },
        "id": "d9x0JIX1Dr6p",
        "outputId": "ea070150-8641-4461-c750-4f3242a06f72"
      },
      "execution_count": 16,
      "outputs": [
        {
          "output_type": "stream",
          "name": "stdout",
          "text": [
            "Enter a growth estimate from https://finance.yahoo.com/quote/MELI/analysis?p=MELI:49.40\n",
            "namespace(eps=14.62, future_eps=28.38, ppe=83.690155, future_ppe=43.11311, name='MercadoLibre, Inc.', symbol='MELI', price=1223.55)\n",
            "namespace(high=2180.0, low=1350.0, mean=1640.68, median=1625.0)\n"
          ]
        }
      ]
    }
  ]
}