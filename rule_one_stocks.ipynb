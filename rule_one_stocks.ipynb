{
  "nbformat": 4,
  "nbformat_minor": 0,
  "metadata": {
    "colab": {
      "provenance": [],
      "include_colab_link": true
    },
    "kernelspec": {
      "name": "python3",
      "display_name": "Python 3"
    },
    "language_info": {
      "name": "python"
    }
  },
  "cells": [
    {
      "cell_type": "markdown",
      "metadata": {
        "id": "view-in-github",
        "colab_type": "text"
      },
      "source": [
        "<a href=\"https://colab.research.google.com/github/kocielnik/rule_one_stocks/blob/main/rule_one_stocks.ipynb\" target=\"_parent\"><img src=\"https://colab.research.google.com/assets/colab-badge.svg\" alt=\"Open In Colab\"/></a>"
      ]
    },
    {
      "cell_type": "code",
      "source": [
        "%%file mos.py\n",
        "\n",
        "from yfinance import Ticker\n",
        "\n",
        "\n",
        "class Deal:\n",
        "\n",
        "    \"\"\"\n",
        "    >>> repr(Deal(1, 1))\n",
        "    'Deal(1, 1)'\n",
        "    \"\"\"\n",
        "\n",
        "    def __init__(\n",
        "        self, sticker_price,\n",
        "        price\n",
        "    ):\n",
        "        self.sticker_price = sticker_price\n",
        "        self.price = price\n",
        "        self.percent_of_sticker_price = price / sticker_price * 100\n",
        "\n",
        "    def __repr__(self):\n",
        "        return f\"Deal({self.sticker_price}, {self.price})\"\n",
        "\n",
        "    def __eq__(self, other):\n",
        "        if self.sticker_price != other.sticker_price:\n",
        "            return False\n",
        "\n",
        "        if self.price != other.price:\n",
        "            return False\n",
        "\n",
        "        return True\n",
        "\n",
        "class MockTicker:\n",
        "    def __init__(self, _):\n",
        "        self.info = {\n",
        "            \"currentPrice\": 352.5\n",
        "        }\n",
        "\n",
        "\n",
        "def get_price(symbol, Ticker=Ticker):\n",
        "    \"\"\"\n",
        "    >>> get_price(\"msft\", Ticker=MockTicker)\n",
        "    352.5\n",
        "    >>> get_price([])\n",
        "    {}\n",
        "    >>> get_price([\"msft\"], Ticker=MockTicker)\n",
        "    {'msft': 352.5}\n",
        "    \"\"\"\n",
        "    if type(symbol) == str:\n",
        "        price = Ticker(symbol).info[\"currentPrice\"]\n",
        "        return price\n",
        "\n",
        "    prices = {\n",
        "        the_symbol: get_price(the_symbol, Ticker=Ticker)\n",
        "        for the_symbol in symbol\n",
        "    }\n",
        "    return prices\n",
        "\n",
        "\n",
        "def get_deal(symbol, sticker_price, Ticker=Ticker):\n",
        "    price = get_price(symbol, Ticker=Ticker)\n",
        "    return Deal(sticker_price, price)\n",
        "\n",
        "def test_get_deal_one():\n",
        "    sticker_prices = {\n",
        "        \"msft\": 118\n",
        "    }\n",
        "\n",
        "    deal = get_deal(\"msft\", sticker_prices[\"msft\"], Ticker=MockTicker)\n",
        "\n",
        "    assert deal == Deal(118, 352.5)\n",
        "\n",
        "def test_get_deal_multiple():\n",
        "    sticker_prices = {\n",
        "        \"msft\": 118,\n",
        "        \"tsm\": 22\n",
        "    }\n",
        "\n",
        "    deals = get_deal(sticker_prices.keys(), sticker_prices, Ticker=MockTicker)\n",
        "\n",
        "    assert deals[0] == Deal(118, 352.5)"
      ],
      "metadata": {
        "id": "0EptahUkFYlk",
        "colab": {
          "base_uri": "https://localhost:8080/"
        },
        "outputId": "32be6d9c-2485-4fdb-8788-9d46d6bbeec4"
      },
      "execution_count": null,
      "outputs": [
        {
          "output_type": "stream",
          "name": "stdout",
          "text": [
            "Overwriting mos.py\n"
          ]
        }
      ]
    },
    {
      "cell_type": "code",
      "source": [
        "!pytest --doctest-modules mos.py"
      ],
      "metadata": {
        "colab": {
          "base_uri": "https://localhost:8080/"
        },
        "id": "0ZvmZV_eBUU0",
        "outputId": "0e0d7011-9512-4051-a532-46f2728008c8"
      },
      "execution_count": null,
      "outputs": [
        {
          "output_type": "stream",
          "name": "stdout",
          "text": [
            "\u001b[1m============================= test session starts ==============================\u001b[0m\n",
            "platform linux -- Python 3.10.11, pytest-7.2.2, pluggy-1.0.0\n",
            "rootdir: /content\n",
            "plugins: anyio-3.6.2\n",
            "collected 4 items                                                              \u001b[0m\n",
            "\n",
            "mos.py \u001b[32m.\u001b[0m\u001b[32m.\u001b[0m\u001b[32m.\u001b[0m\u001b[31mF\u001b[0m\u001b[31m                                                              [100%]\u001b[0m\n",
            "\n",
            "=================================== FAILURES ===================================\n",
            "\u001b[31m\u001b[1m____________________________ test_get_deal_multiple ____________________________\u001b[0m\n",
            "\n",
            "    \u001b[94mdef\u001b[39;49;00m \u001b[92mtest_get_deal_multiple\u001b[39;49;00m():\u001b[90m\u001b[39;49;00m\n",
            "        sticker_prices = {\u001b[90m\u001b[39;49;00m\n",
            "            \u001b[33m\"\u001b[39;49;00m\u001b[33mmsft\u001b[39;49;00m\u001b[33m\"\u001b[39;49;00m: \u001b[94m118\u001b[39;49;00m,\u001b[90m\u001b[39;49;00m\n",
            "            \u001b[33m\"\u001b[39;49;00m\u001b[33mtsm\u001b[39;49;00m\u001b[33m\"\u001b[39;49;00m: \u001b[94m22\u001b[39;49;00m\u001b[90m\u001b[39;49;00m\n",
            "        }\u001b[90m\u001b[39;49;00m\n",
            "    \u001b[90m\u001b[39;49;00m\n",
            ">       deals = get_deal(sticker_prices.keys(), sticker_prices, Ticker=MockTicker)\u001b[90m\u001b[39;49;00m\n",
            "\n",
            "\u001b[1m\u001b[31mmos.py\u001b[0m:78: \n",
            "_ _ _ _ _ _ _ _ _ _ _ _ _ _ _ _ _ _ _ _ _ _ _ _ _ _ _ _ _ _ _ _ _ _ _ _ _ _ _ _ \n",
            "\u001b[1m\u001b[31mmos.py\u001b[0m:61: in get_deal\n",
            "    \u001b[94mreturn\u001b[39;49;00m Deal(sticker_price, price)\u001b[90m\u001b[39;49;00m\n",
            "_ _ _ _ _ _ _ _ _ _ _ _ _ _ _ _ _ _ _ _ _ _ _ _ _ _ _ _ _ _ _ _ _ _ _ _ _ _ _ _ \n",
            "\n",
            "self = Deal({'msft': 118, 'tsm': 22}, {'msft': 352.5, 'tsm': 352.5})\n",
            "sticker_price = {'msft': 118, 'tsm': 22}, price = {'msft': 352.5, 'tsm': 352.5}\n",
            "\n",
            "    \u001b[94mdef\u001b[39;49;00m \u001b[92m__init__\u001b[39;49;00m(\u001b[90m\u001b[39;49;00m\n",
            "        \u001b[96mself\u001b[39;49;00m, sticker_price,\u001b[90m\u001b[39;49;00m\n",
            "        price\u001b[90m\u001b[39;49;00m\n",
            "    ):\u001b[90m\u001b[39;49;00m\n",
            "        \u001b[96mself\u001b[39;49;00m.sticker_price = sticker_price\u001b[90m\u001b[39;49;00m\n",
            "        \u001b[96mself\u001b[39;49;00m.price = price\u001b[90m\u001b[39;49;00m\n",
            ">       \u001b[96mself\u001b[39;49;00m.percent_of_sticker_price = price / sticker_price * \u001b[94m100\u001b[39;49;00m\u001b[90m\u001b[39;49;00m\n",
            "\u001b[1m\u001b[31mE       TypeError: unsupported operand type(s) for /: 'dict' and 'dict'\u001b[0m\n",
            "\n",
            "\u001b[1m\u001b[31mmos.py\u001b[0m:18: TypeError\n",
            "\u001b[36m\u001b[1m=========================== short test summary info ============================\u001b[0m\n",
            "\u001b[31mFAILED\u001b[0m mos.py::\u001b[1mtest_get_deal_multiple\u001b[0m - TypeError: unsupported operand type(s) for /: 'dict' and 'dict'\n",
            "\u001b[31m========================= \u001b[31m\u001b[1m1 failed\u001b[0m, \u001b[32m3 passed\u001b[0m\u001b[31m in 0.88s\u001b[0m\u001b[31m ==========================\u001b[0m\n"
          ]
        }
      ]
    }
  ]
}